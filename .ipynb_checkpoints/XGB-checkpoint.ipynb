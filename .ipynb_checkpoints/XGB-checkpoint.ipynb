{
 "cells": [
  {
   "cell_type": "markdown",
   "metadata": {},
   "source": [
    "# Notebook for building an XGBoost model for the Sendgrid sign up dataset\n",
    "***\n",
    "**Jake Mitchell Scott Schubert**\n",
    "\n",
    "Initially using ______"
   ]
  },
  {
   "cell_type": "code",
   "execution_count": 1,
   "metadata": {
    "scrolled": true
   },
   "outputs": [],
   "source": [
    "import numpy as np\n",
    "import pandas as pd\n",
    "import matplotlib.pylab as plt\n",
    "\n",
    "from numpy import loadtxt\n",
    "from xgboost import XGBClassifier\n",
    "from sklearn.model_selection import train_test_split\n",
    "from sklearn.metrics import accuracy_score"
   ]
  },
  {
   "cell_type": "code",
   "execution_count": 6,
   "metadata": {
    "scrolled": true
   },
   "outputs": [
    {
     "name": "stdout",
     "output_type": "stream",
     "text": [
      "   id                  website         city state  zip country  \\\n",
      "0   0     http://tvtropes.org/     Manassas    VA  NaN      US   \n",
      "1   1       http://memebau.com        Tulsa    OK  NaN      US   \n",
      "2   2  http:/www./ShellsFor.Me        Ajman    AJ  NaN      AE   \n",
      "3   3          www.hjhj.com.mx  Mexico City   CMX  NaN      MX   \n",
      "4   4                jk.edu.br     Brasília    DF  NaN      BR   \n",
      "\n",
      "   registration_ip  banned_ip  ip_count      company       ...         \\\n",
      "0     207.244.77.8          6         8    tvtropes        ...          \n",
      "1   104.168.149.15          5         5     memekbau       ...          \n",
      "2  109.177.112.218          0         1  ShellsForMe       ...          \n",
      "3   201.137.247.62          4         4           bb       ...          \n",
      "4  179.176.123.238          0         1           jk       ...          \n",
      "\n",
      "  ip_cluster  email_cluster  mfa_required  mfa_completed whitelabel_required  \\\n",
      "0      False          False           1.0            0.0                 1.0   \n",
      "1      False          False           NaN            NaN                 NaN   \n",
      "2      False          False           NaN            NaN                 NaN   \n",
      "3      False          False           1.0            0.0                 1.0   \n",
      "4      False          False           NaN            NaN                 NaN   \n",
      "\n",
      "  whitelabel_completed payment_required payment_completed  profile_completed  \\\n",
      "0                  0.0              0.0               0.0                1.0   \n",
      "1                  NaN              NaN               NaN                NaN   \n",
      "2                  NaN              NaN               NaN                NaN   \n",
      "3                  0.0              0.0               0.0                1.0   \n",
      "4                  NaN              NaN               NaN                NaN   \n",
      "\n",
      "   email_completed  \n",
      "0              0.0  \n",
      "1              NaN  \n",
      "2              NaN  \n",
      "3              0.0  \n",
      "4              NaN  \n",
      "\n",
      "[5 rows x 49 columns]\n"
     ]
    }
   ],
   "source": [
    "train_path = 'data/signup_train_data.csv'\n",
    "\n",
    "# Load the data into a DataFrame \n",
    "df = pd.read_csv(train_path, low_memory=False)\n",
    "# Split into X and Y\n",
    "dfLabels = df.pop(\"label\")\n",
    "print (df.head())\n",
    "#get train and valid sets\n",
    "#X_train, X_valid, y_train, y_valid = train_test_split(baseData, baseLabels, train_size=0.5, random_state=1000)\n",
    "#print(X_train.head())"
   ]
  },
  {
   "cell_type": "code",
   "execution_count": null,
   "metadata": {
    "collapsed": true
   },
   "outputs": [],
   "source": []
  }
 ],
 "metadata": {
  "kernelspec": {
   "display_name": "Python 3",
   "language": "python",
   "name": "python3"
  },
  "language_info": {
   "codemirror_mode": {
    "name": "ipython",
    "version": 3
   },
   "file_extension": ".py",
   "mimetype": "text/x-python",
   "name": "python",
   "nbconvert_exporter": "python",
   "pygments_lexer": "ipython3",
   "version": "3.6.4"
  }
 },
 "nbformat": 4,
 "nbformat_minor": 2
}
