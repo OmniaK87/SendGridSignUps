{
 "cells": [
  {
   "cell_type": "markdown",
   "metadata": {},
   "source": [
    "# Notebook for building a model for the Sendfrid sign up dataset\n",
    "***\n",
    "**Jake Mitchell Scott Schubert**\n",
    "\n",
    "Initially using XGBoost and TensorFlow"
   ]
  },
  {
   "cell_type": "code",
   "execution_count": 1,
   "metadata": {
    "collapsed": true,
    "scrolled": true
   },
   "outputs": [],
   "source": [
    "import csv\n",
    "import numpy as np\n",
    "import pandas as pd\n",
    "import matplotlib.pylab as plt\n",
    "from sklearn.model_selection import train_test_split"
   ]
  },
  {
   "cell_type": "markdown",
   "metadata": {},
   "source": [
    "Hopeful Workflow:\n",
    "- build model\n",
    "- have function that takes a pandas dataframe object or csv and returns a dataframe or csv of predictions."
   ]
  },
  {
   "cell_type": "code",
   "execution_count": 2,
   "metadata": {
    "scrolled": true
   },
   "outputs": [
    {
     "data": {
      "text/plain": [
       "'# Load the data into a DataFrame \\ndf = pd.read_csv(train_path, low_memory=False, nrows=1000)\\n# Split into X and Y\\ndfLabels = df.pop(\"label\")\\n#get train and valid sets\\nX_train, X_valid, y_train, y_valid = train_test_split(df, dfLabels, train_size=0.5, random_state=1000)'"
      ]
     },
     "execution_count": 2,
     "metadata": {},
     "output_type": "execute_result"
    }
   ],
   "source": [
    "train_path = 'data/signup_train_data.csv'\n",
    "\n",
    "'''# Load the data into a DataFrame \n",
    "df = pd.read_csv(train_path, low_memory=False, nrows=1000)\n",
    "# Split into X and Y\n",
    "dfLabels = df.pop(\"label\")\n",
    "#get train and valid sets\n",
    "X_train, X_valid, y_train, y_valid = train_test_split(df, dfLabels, train_size=0.5, random_state=1000)'''"
   ]
  },
  {
   "cell_type": "code",
   "execution_count": 3,
   "metadata": {},
   "outputs": [
    {
     "name": "stdout",
     "output_type": "stream",
     "text": [
      "hi\n"
     ]
    },
    {
     "ename": "NameError",
     "evalue": "name 'X_train' is not defined",
     "output_type": "error",
     "traceback": [
      "\u001b[1;31m---------------------------------------------------------------------------\u001b[0m",
      "\u001b[1;31mNameError\u001b[0m                                 Traceback (most recent call last)",
      "\u001b[1;32m<ipython-input-3-11a1d4deed19>\u001b[0m in \u001b[0;36m<module>\u001b[1;34m()\u001b[0m\n\u001b[0;32m      1\u001b[0m \u001b[0mprint\u001b[0m\u001b[1;33m(\u001b[0m\u001b[1;34m\"hi\"\u001b[0m\u001b[1;33m)\u001b[0m\u001b[1;33m\u001b[0m\u001b[0m\n\u001b[1;32m----> 2\u001b[1;33m \u001b[1;32mfor\u001b[0m \u001b[0mrow\u001b[0m \u001b[1;32min\u001b[0m \u001b[0mX_train\u001b[0m\u001b[1;33m.\u001b[0m\u001b[0mhead\u001b[0m\u001b[1;33m(\u001b[0m\u001b[1;36m10\u001b[0m\u001b[1;33m)\u001b[0m\u001b[1;33m.\u001b[0m\u001b[0miterrows\u001b[0m\u001b[1;33m(\u001b[0m\u001b[1;33m)\u001b[0m\u001b[1;33m:\u001b[0m\u001b[1;33m\u001b[0m\u001b[0m\n\u001b[0m\u001b[0;32m      3\u001b[0m     \u001b[0mprint\u001b[0m\u001b[1;33m(\u001b[0m\u001b[0mrow\u001b[0m\u001b[1;33m[\u001b[0m\u001b[1;36m1\u001b[0m\u001b[1;33m]\u001b[0m\u001b[1;33m[\u001b[0m\u001b[1;34m\"city\"\u001b[0m\u001b[1;33m]\u001b[0m\u001b[1;33m)\u001b[0m\u001b[1;33m\u001b[0m\u001b[0m\n",
      "\u001b[1;31mNameError\u001b[0m: name 'X_train' is not defined"
     ]
    }
   ],
   "source": [
    "print(\"hi\")\n",
    "for row in X_train.head(10).iterrows():\n",
    "    print(row[1][\"city\"])"
   ]
  },
  {
   "cell_type": "code",
   "execution_count": 15,
   "metadata": {},
   "outputs": [],
   "source": [
    "def get_csv_prediction(filepath, nrows=10000):\n",
    "    '''Takes a csv filepath, loads the data, and stores the predicted results'''\n",
    "    df = pd.read_csv(filepath, low_memory=False, nrows=nrows)\n",
    "    results = get_df_prediction(df)\n",
    "    df[[\"id\",\"predict_label\"]].to_csv(\"data/output.csv\")\n",
    "    \n",
    "    \n",
    "    '''outF = open(\"output.csv\", \"w\", newline='')\n",
    "    writer = csv.writer(outF, delimiter=',')\n",
    "    writer.writerow([\"id\",\"input\"])\n",
    "    print(df.columns)\n",
    "    writer.writerow([df[row[0], \"id\"], df[row[0], \"predict_label\"]])\n",
    "    outF.close()'''\n",
    "\n",
    "    \n",
    "def get_df_prediction(df):\n",
    "    '''Takes a dataframe of inputs, loops through them to get the predictions, and returns a predicted result dataframe'''\n",
    "    df['predict_label'] = 0\n",
    "    for row in df.iterrows():\n",
    "        #row takes the form of (index, data)\n",
    "        df[row[0], \"predict_label\"] = get_label(row[1])\n",
    "        \n",
    "        \n",
    "def get_label(X):\n",
    "    '''Takes a row of X inputs and returns the predicted label'''\n",
    "    print(X[\"banned_ip\"])\n",
    "    if X[\"banned_ip\"]:\n",
    "        return 1\n",
    "    return 0"
   ]
  },
  {
   "cell_type": "code",
   "execution_count": 16,
   "metadata": {},
   "outputs": [
    {
     "name": "stdout",
     "output_type": "stream",
     "text": [
      "6\n",
      "5\n",
      "0\n",
      "4\n",
      "0\n"
     ]
    }
   ],
   "source": [
    "get_csv_prediction(\"data/signup_train_data.csv\", nrows=5)"
   ]
  },
  {
   "cell_type": "code",
   "execution_count": null,
   "metadata": {
    "collapsed": true
   },
   "outputs": [],
   "source": []
  }
 ],
 "metadata": {
  "kernelspec": {
   "display_name": "Python 3",
   "language": "python",
   "name": "python3"
  },
  "language_info": {
   "codemirror_mode": {
    "name": "ipython",
    "version": 3
   },
   "file_extension": ".py",
   "mimetype": "text/x-python",
   "name": "python",
   "nbconvert_exporter": "python",
   "pygments_lexer": "ipython3",
   "version": "3.6.3"
  }
 },
 "nbformat": 4,
 "nbformat_minor": 2
}
