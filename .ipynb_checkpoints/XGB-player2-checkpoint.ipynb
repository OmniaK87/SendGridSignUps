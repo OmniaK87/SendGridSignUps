{
 "cells": [
  {
   "cell_type": "markdown",
   "metadata": {},
   "source": [
    "# Notebook for building an XGBoost model for the Sendgrid sign up dataset\n",
    "***\n",
    "**Jake Mitchell Scott Schubert**\n",
    "\n",
    "Initially using ______"
   ]
  },
  {
   "cell_type": "code",
   "execution_count": 88,
   "metadata": {
    "collapsed": true,
    "scrolled": true
   },
   "outputs": [],
   "source": [
    "import numpy as np\n",
    "import pandas as pd\n",
    "import matplotlib.pylab as plt\n",
    "\n",
    "from numpy import loadtxt\n",
    "from xgboost import XGBClassifier\n",
    "from sklearn.model_selection import train_test_split\n",
    "from sklearn.metrics import accuracy_score\n",
    "from random import randint\n",
    "from datetime import datetime"
   ]
  },
  {
   "cell_type": "code",
   "execution_count": null,
   "metadata": {
    "collapsed": true
   },
   "outputs": [],
   "source": []
  },
  {
   "cell_type": "code",
   "execution_count": null,
   "metadata": {
    "scrolled": true
   },
   "outputs": [],
   "source": [
    "train_path = 'data/signup_train_data.csv'\n",
    "test_path = 'data/signup_test_data.csv'\n",
    "\n",
    "\n",
    "# Load the data into a DataFrame \n",
    "df = pd.read_csv(train_path, low_memory=False)\n",
    "test_df = pd.read_csv(test_path, low_memory=False)\n",
    "\n",
    "# Split into X and Y\n",
    "dfLabels = df.pop(\"label\")\n",
    "#print (df.head())\n",
    "\n",
    "#Feature Engineering\n",
    "#for index, row in df.iterrows():\n",
    "#    df['time_of_day_int'] = int(row['created_at'][11:13])*3600\n",
    "#for index, row in test_df.iterrows():\n",
    "#    test_df['time_of_day_int'] = int(row['created_at'][11:13])*3600 + int(row['created_at'][14:16])*60 + int(row['created_at'][17:19])\n",
    "\n",
    "#Temporarily parse non numerical data\n",
    "frames_to_remove = ['zip', 'city', 'website', 'state', 'country', 'registration_ip', 'company','multifactor_country_code','created_at','lead_source','marketing_channel','volume','user_persona','initial_package','employee_count','geolocation_notes','name_notes','ip_notes','community_notes','email_notes','activity_notes','fingerprint_notes']\n",
    "df = df.drop(frames_to_remove, axis=1)\n",
    "test_df = test_df.drop(frames_to_remove, axis=1)\n",
    "\n",
    "df.head()\n",
    "\n",
    "\n"
   ]
  },
  {
   "cell_type": "code",
   "execution_count": null,
   "metadata": {
    "collapsed": true
   },
   "outputs": [],
   "source": []
  },
  {
   "cell_type": "code",
   "execution_count": 81,
   "metadata": {
    "collapsed": true
   },
   "outputs": [],
   "source": [
    "def xgb_basic(seed_in, TEST):\n",
    "    # split data into train and test sets\n",
    "    seed = seed_in\n",
    "    test_size = 0.5\n",
    "    X_train, X_test, y_train, y_test = train_test_split(df, dfLabels, test_size=test_size, random_state=seed)\n",
    "\n",
    "    # fit model no training data\n",
    "    model = XGBClassifier()\n",
    "    model.fit(X_train, y_train)\n",
    "    \n",
    "    # make predictions for test data\n",
    "    y_pred = model.predict(X_test)\n",
    "    predictions = [round(value) for value in y_pred]\n",
    "\n",
    "    # evaluate predictions\n",
    "    accuracy = accuracy_score(y_test, predictions)\n",
    "    print(\"Seed: %i    -  Accuracy: %.2f%%\" % (seed,accuracy * 100.0))\n",
    "    \n",
    "    if TEST:\n",
    "        #make predictions for train data\n",
    "        y_pred = model.predict(test_df)\n",
    "        predictions = [round(value) for value in y_pred]\n",
    "\n",
    "        d = {'id':test_df['id'], 'label':predictions}\n",
    "        preds = pd.DataFrame(data=d)\n",
    "\n",
    "        preds.to_csv('predictions.csv', index=False)"
   ]
  },
  {
   "cell_type": "code",
   "execution_count": null,
   "metadata": {
    "collapsed": true
   },
   "outputs": [],
   "source": [
    "for i in [randint(0,50) for a in range(1)]:\n",
    "    xgb_basic(i,True)\n",
    "\n",
    "#for x in range (15,100):\n",
    "#    xgb_basic(x, False)"
   ]
  },
  {
   "cell_type": "code",
   "execution_count": null,
   "metadata": {
    "collapsed": true
   },
   "outputs": [],
   "source": [
    "28, 31"
   ]
  }
 ],
 "metadata": {
  "kernelspec": {
   "display_name": "Python 3",
   "language": "python",
   "name": "python3"
  },
  "language_info": {
   "codemirror_mode": {
    "name": "ipython",
    "version": 3
   },
   "file_extension": ".py",
   "mimetype": "text/x-python",
   "name": "python",
   "nbconvert_exporter": "python",
   "pygments_lexer": "ipython3",
   "version": "3.6.3"
  }
 },
 "nbformat": 4,
 "nbformat_minor": 2
}
