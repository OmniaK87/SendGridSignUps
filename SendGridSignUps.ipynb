{
 "cells": [
  {
   "cell_type": "markdown",
   "metadata": {},
   "source": [
    "# Notebook for building a model for the Sendfrid sign up dataset\n",
    "***\n",
    "**Jake Mitchell Scott Schubert**\n",
    "\n",
    "Initially using ______"
   ]
  },
  {
   "cell_type": "code",
   "execution_count": 20,
   "metadata": {
    "scrolled": true
   },
   "outputs": [],
   "source": [
    "import numpy as np\n",
    "import pandas as pd\n",
    "import matplotlib.pylab as plt\n",
    "from xgboost import XGB\n",
    "from sklearn.model_selection import train_test_split"
   ]
  },
  {
   "cell_type": "code",
   "execution_count": 34,
   "metadata": {
    "scrolled": true
   },
   "outputs": [
    {
     "name": "stderr",
     "output_type": "stream",
     "text": [
      "C:\\Users\\jakem\\Anaconda3\\lib\\site-packages\\sklearn\\model_selection\\_split.py:2026: FutureWarning: From version 0.21, test_size will always complement train_size unless both are specified.\n",
      "  FutureWarning)\n"
     ]
    },
    {
     "name": "stdout",
     "output_type": "stream",
     "text": [
      "            id  label                      website              city    state  \\\n",
      "164515  164515      1                   asdFZSDcfa         Port Said      PTS   \n",
      "62550    62550      1  http://info@bttiantangs.com          Norcross  Georgia   \n",
      "165377  165377      1                    gduas.com  Ho Chi Minh City       SG   \n",
      "155391  155391      0                travogear.com       Huntingdale       WA   \n",
      "246896  246896      0            www.martasgift.ro              Arad       AR   \n",
      "\n",
      "        zip country  registration_ip  banned_ip  ip_count       ...         \\\n",
      "164515  NaN      EG   156.221.22.160          2         2       ...          \n",
      "62550   NaN      US    63.246.137.43         92        95       ...          \n",
      "165377  NaN      VN  171.253.184.244         56        58       ...          \n",
      "155391  NaN      AU     106.68.49.90          0         2       ...          \n",
      "246896  NaN      RO    86.120.24.118          0         5       ...          \n",
      "\n",
      "       ip_cluster email_cluster  mfa_required  mfa_completed  \\\n",
      "164515      False         False           1.0            0.0   \n",
      "62550       False         False           1.0            0.0   \n",
      "165377      False         False           1.0            0.0   \n",
      "155391      False         False           0.0            0.0   \n",
      "246896      False         False           NaN            NaN   \n",
      "\n",
      "        whitelabel_required whitelabel_completed payment_required  \\\n",
      "164515                  1.0                  0.0              0.0   \n",
      "62550                   1.0                  0.0              0.0   \n",
      "165377                  1.0                  0.0              0.0   \n",
      "155391                  0.0                  0.0              0.0   \n",
      "246896                  NaN                  NaN              NaN   \n",
      "\n",
      "       payment_completed profile_completed  email_completed  \n",
      "164515               0.0               1.0              0.0  \n",
      "62550                0.0               1.0              0.0  \n",
      "165377               0.0               1.0              0.0  \n",
      "155391               0.0               1.0              0.0  \n",
      "246896               NaN               NaN              NaN  \n",
      "\n",
      "[5 rows x 50 columns]\n"
     ]
    }
   ],
   "source": [
    "train_path = 'signup_train_data.csv'\n",
    "\n",
    "# Load the data into a DataFrame \n",
    "df = pd.read_csv(train_path, low_memory=False)\n",
    "# Split into X and Y\n",
    "dfLabels = df.pop(\"label\")\n",
    "#get train and valid sets\n",
    "X_train, X_valid, y_train, y_valid = train_test_split(baseData, baseLabels, train_size=0.5, random_state=1000)\n",
    "print(X_train.head())"
   ]
  },
  {
   "cell_type": "code",
   "execution_count": null,
   "metadata": {
    "collapsed": true
   },
   "outputs": [],
   "source": []
  }
 ],
 "metadata": {
  "kernelspec": {
   "display_name": "Python 3",
   "language": "python",
   "name": "python3"
  },
  "language_info": {
   "codemirror_mode": {
    "name": "ipython",
    "version": 3
   },
   "file_extension": ".py",
   "mimetype": "text/x-python",
   "name": "python",
   "nbconvert_exporter": "python",
   "pygments_lexer": "ipython3",
   "version": "3.6.3"
  }
 },
 "nbformat": 4,
 "nbformat_minor": 2
}
